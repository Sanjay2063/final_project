{
 "cells": [
  {
   "cell_type": "code",
   "execution_count": 9,
   "metadata": {},
   "outputs": [
    {
     "data": {
      "text/html": [
       "<div>\n",
       "<style scoped>\n",
       "    .dataframe tbody tr th:only-of-type {\n",
       "        vertical-align: middle;\n",
       "    }\n",
       "\n",
       "    .dataframe tbody tr th {\n",
       "        vertical-align: top;\n",
       "    }\n",
       "\n",
       "    .dataframe thead th {\n",
       "        text-align: right;\n",
       "    }\n",
       "</style>\n",
       "<table border=\"1\" class=\"dataframe\">\n",
       "  <thead>\n",
       "    <tr style=\"text-align: right;\">\n",
       "      <th></th>\n",
       "      <th>_id</th>\n",
       "      <th>skillname</th>\n",
       "      <th>coursename</th>\n",
       "      <th>certificate_link</th>\n",
       "      <th>score</th>\n",
       "      <th>approval</th>\n",
       "      <th>department</th>\n",
       "      <th>userId</th>\n",
       "      <th>user_name</th>\n",
       "      <th>user_email</th>\n",
       "      <th>designation</th>\n",
       "    </tr>\n",
       "  </thead>\n",
       "  <tbody>\n",
       "    <tr>\n",
       "      <th>0</th>\n",
       "      <td>670627fde88879333ce6fb9f</td>\n",
       "      <td>React</td>\n",
       "      <td>React for Beginners</td>\n",
       "      <td>https://patterson.com/</td>\n",
       "      <td>82</td>\n",
       "      <td>True</td>\n",
       "      <td>IT</td>\n",
       "      <td>670627fde88879333ce6f7b7</td>\n",
       "      <td>Michael Ferguson</td>\n",
       "      <td>gutierrezbrett@example.net</td>\n",
       "      <td>Junior IT Engineer</td>\n",
       "    </tr>\n",
       "    <tr>\n",
       "      <th>1</th>\n",
       "      <td>670627fde88879333ce6fba0</td>\n",
       "      <td>Node.js</td>\n",
       "      <td>Intro to Node.js</td>\n",
       "      <td>https://brock.info/</td>\n",
       "      <td>75</td>\n",
       "      <td>False</td>\n",
       "      <td>IT</td>\n",
       "      <td>670627fde88879333ce6f7b7</td>\n",
       "      <td>Michael Ferguson</td>\n",
       "      <td>gutierrezbrett@example.net</td>\n",
       "      <td>Junior IT Engineer</td>\n",
       "    </tr>\n",
       "    <tr>\n",
       "      <th>2</th>\n",
       "      <td>670627fde88879333ce6fba1</td>\n",
       "      <td>MongoDB</td>\n",
       "      <td>MongoDB Basics</td>\n",
       "      <td>http://jacobs-garner.com/</td>\n",
       "      <td>83</td>\n",
       "      <td>True</td>\n",
       "      <td>IT</td>\n",
       "      <td>670627fde88879333ce6f7b7</td>\n",
       "      <td>Michael Ferguson</td>\n",
       "      <td>gutierrezbrett@example.net</td>\n",
       "      <td>Junior IT Engineer</td>\n",
       "    </tr>\n",
       "    <tr>\n",
       "      <th>3</th>\n",
       "      <td>670627fde88879333ce6fba2</td>\n",
       "      <td>Python</td>\n",
       "      <td>Intro to Python</td>\n",
       "      <td>http://www.brown.com/</td>\n",
       "      <td>75</td>\n",
       "      <td>False</td>\n",
       "      <td>Engineering</td>\n",
       "      <td>670627fde88879333ce6f7b8</td>\n",
       "      <td>Nancy Giles</td>\n",
       "      <td>nunezmiranda@example.net</td>\n",
       "      <td>Junior Engineering Engineer</td>\n",
       "    </tr>\n",
       "    <tr>\n",
       "      <th>4</th>\n",
       "      <td>670627fde88879333ce6fba3</td>\n",
       "      <td>Data Engineering</td>\n",
       "      <td>Data Engineering Bootcamp</td>\n",
       "      <td>http://www.castillo.net/</td>\n",
       "      <td>52</td>\n",
       "      <td>True</td>\n",
       "      <td>Engineering</td>\n",
       "      <td>670627fde88879333ce6f7b8</td>\n",
       "      <td>Nancy Giles</td>\n",
       "      <td>nunezmiranda@example.net</td>\n",
       "      <td>Junior Engineering Engineer</td>\n",
       "    </tr>\n",
       "  </tbody>\n",
       "</table>\n",
       "</div>"
      ],
      "text/plain": [
       "                        _id         skillname                 coursename  \\\n",
       "0  670627fde88879333ce6fb9f             React        React for Beginners   \n",
       "1  670627fde88879333ce6fba0           Node.js           Intro to Node.js   \n",
       "2  670627fde88879333ce6fba1           MongoDB             MongoDB Basics   \n",
       "3  670627fde88879333ce6fba2            Python            Intro to Python   \n",
       "4  670627fde88879333ce6fba3  Data Engineering  Data Engineering Bootcamp   \n",
       "\n",
       "            certificate_link  score  approval   department  \\\n",
       "0     https://patterson.com/     82      True           IT   \n",
       "1        https://brock.info/     75     False           IT   \n",
       "2  http://jacobs-garner.com/     83      True           IT   \n",
       "3      http://www.brown.com/     75     False  Engineering   \n",
       "4   http://www.castillo.net/     52      True  Engineering   \n",
       "\n",
       "                     userId         user_name                  user_email  \\\n",
       "0  670627fde88879333ce6f7b7  Michael Ferguson  gutierrezbrett@example.net   \n",
       "1  670627fde88879333ce6f7b7  Michael Ferguson  gutierrezbrett@example.net   \n",
       "2  670627fde88879333ce6f7b7  Michael Ferguson  gutierrezbrett@example.net   \n",
       "3  670627fde88879333ce6f7b8       Nancy Giles    nunezmiranda@example.net   \n",
       "4  670627fde88879333ce6f7b8       Nancy Giles    nunezmiranda@example.net   \n",
       "\n",
       "                   designation  \n",
       "0           Junior IT Engineer  \n",
       "1           Junior IT Engineer  \n",
       "2           Junior IT Engineer  \n",
       "3  Junior Engineering Engineer  \n",
       "4  Junior Engineering Engineer  "
      ]
     },
     "execution_count": 9,
     "metadata": {},
     "output_type": "execute_result"
    }
   ],
   "source": [
    "import pandas as pd\n",
    "file_path = r'C:\\Users\\SanjayG\\Desktop\\de\\schema\\raw\\raw_skills.csv'\n",
    "skill = pd.read_csv(file_path)\n",
    "skill.head()"
   ]
  },
  {
   "cell_type": "code",
   "execution_count": 10,
   "metadata": {},
   "outputs": [
    {
     "name": "stdout",
     "output_type": "stream",
     "text": [
      "Columns in DataFrame: Index(['_id', 'skillname', 'coursename', 'certificate_link', 'score',\n",
      "       'approval', 'department', 'userId', 'user_name', 'user_email',\n",
      "       'designation'],\n",
      "      dtype='object')\n",
      "Count of 'employee_id' before dropping duplicates: 5982\n",
      "Count of 'skill_id' after dropping duplicates: 5982\n"
     ]
    }
   ],
   "source": [
    "# Print the column names to identify the correct name\n",
    "print(\"Columns in DataFrame:\", skill.columns)\n",
    "\n",
    "# Count the number of entries in the correct column before dropping duplicates\n",
    "print(\"Count of 'employee_id' before dropping duplicates:\", skill['_id'].count())\n",
    "\n",
    "# Drop duplicates based on all columns\n",
    "skill = skill.drop_duplicates()\n",
    "\n",
    "# Count the number of entries in the correct column after dropping duplicates\n",
    "print(\"Count of 'skill_id' after dropping duplicates:\", skill['_id'].count())\n"
   ]
  },
  {
   "cell_type": "code",
   "execution_count": 11,
   "metadata": {},
   "outputs": [
    {
     "data": {
      "text/plain": [
       "_id                 0\n",
       "skillname           0\n",
       "coursename          0\n",
       "certificate_link    0\n",
       "score               0\n",
       "approval            0\n",
       "department          0\n",
       "userId              0\n",
       "user_name           0\n",
       "user_email          0\n",
       "designation         0\n",
       "dtype: int64"
      ]
     },
     "execution_count": 11,
     "metadata": {},
     "output_type": "execute_result"
    }
   ],
   "source": [
    "skill.isnull().sum()"
   ]
  },
  {
   "cell_type": "code",
   "execution_count": 12,
   "metadata": {},
   "outputs": [
    {
     "data": {
      "text/plain": [
       "_id                 object\n",
       "skillname           object\n",
       "coursename          object\n",
       "certificate_link    object\n",
       "score                int64\n",
       "approval              bool\n",
       "department          object\n",
       "userId              object\n",
       "user_name           object\n",
       "user_email          object\n",
       "designation         object\n",
       "dtype: object"
      ]
     },
     "execution_count": 12,
     "metadata": {},
     "output_type": "execute_result"
    }
   ],
   "source": [
    "skill.dtypes"
   ]
  },
  {
   "cell_type": "code",
   "execution_count": 13,
   "metadata": {},
   "outputs": [],
   "source": [
    "skill.to_csv(\"prep_skill.csv\", index=False)"
   ]
  }
 ],
 "metadata": {
  "kernelspec": {
   "display_name": "Python 3",
   "language": "python",
   "name": "python3"
  },
  "language_info": {
   "codemirror_mode": {
    "name": "ipython",
    "version": 3
   },
   "file_extension": ".py",
   "mimetype": "text/x-python",
   "name": "python",
   "nbconvert_exporter": "python",
   "pygments_lexer": "ipython3",
   "version": "3.11.9"
  }
 },
 "nbformat": 4,
 "nbformat_minor": 2
}
