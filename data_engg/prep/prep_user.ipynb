{
 "cells": [
  {
   "cell_type": "code",
   "execution_count": 1,
   "metadata": {},
   "outputs": [
    {
     "name": "stdout",
     "output_type": "stream",
     "text": [
      "Defaulting to user installation because normal site-packages is not writeableNote: you may need to restart the kernel to use updated packages.\n",
      "\n",
      "Requirement already satisfied: numpy in c:\\users\\sanjayg\\appdata\\roaming\\python\\python311\\site-packages (2.1.2)\n",
      "Collecting datetime\n",
      "  Downloading DateTime-5.5-py3-none-any.whl.metadata (33 kB)\n",
      "Collecting zope.interface (from datetime)\n",
      "  Downloading zope.interface-7.0.3-cp311-cp311-win_amd64.whl.metadata (44 kB)\n",
      "     ---------------------------------------- 0.0/44.8 kB ? eta -:--:--\n",
      "     ---------------------------------------- 44.8/44.8 kB 2.2 MB/s eta 0:00:00\n",
      "Requirement already satisfied: pytz in c:\\users\\sanjayg\\appdata\\roaming\\python\\python311\\site-packages (from datetime) (2024.2)\n",
      "Requirement already satisfied: setuptools in c:\\program files\\python311\\lib\\site-packages (from zope.interface->datetime) (65.5.0)\n",
      "Downloading DateTime-5.5-py3-none-any.whl (52 kB)\n",
      "   ---------------------------------------- 0.0/52.6 kB ? eta -:--:--\n",
      "   ---------------------------------------- 52.6/52.6 kB 2.7 MB/s eta 0:00:00\n",
      "Downloading zope.interface-7.0.3-cp311-cp311-win_amd64.whl (211 kB)\n",
      "   ---------------------------------------- 0.0/212.0 kB ? eta -:--:--\n",
      "   ---------------------------------------- 212.0/212.0 kB 6.5 MB/s eta 0:00:00\n",
      "Installing collected packages: zope.interface, datetime\n",
      "Successfully installed datetime-5.5 zope.interface-7.0.3\n"
     ]
    },
    {
     "name": "stderr",
     "output_type": "stream",
     "text": [
      "\n",
      "[notice] A new release of pip is available: 24.0 -> 24.2\n",
      "[notice] To update, run: python.exe -m pip install --upgrade pip\n"
     ]
    }
   ],
   "source": [
    "%pip install numpy datetime"
   ]
  },
  {
   "cell_type": "code",
   "execution_count": 3,
   "metadata": {},
   "outputs": [],
   "source": [
    "import numpy as np\n",
    "import pandas as pd\n",
    "from datetime import datetime"
   ]
  },
  {
   "cell_type": "code",
   "execution_count": 5,
   "metadata": {},
   "outputs": [
    {
     "data": {
      "text/html": [
       "<div>\n",
       "<style scoped>\n",
       "    .dataframe tbody tr th:only-of-type {\n",
       "        vertical-align: middle;\n",
       "    }\n",
       "\n",
       "    .dataframe tbody tr th {\n",
       "        vertical-align: top;\n",
       "    }\n",
       "\n",
       "    .dataframe thead th {\n",
       "        text-align: right;\n",
       "    }\n",
       "</style>\n",
       "<table border=\"1\" class=\"dataframe\">\n",
       "  <thead>\n",
       "    <tr style=\"text-align: right;\">\n",
       "      <th></th>\n",
       "      <th>_id</th>\n",
       "      <th>name</th>\n",
       "      <th>email</th>\n",
       "      <th>password</th>\n",
       "      <th>role</th>\n",
       "      <th>department</th>\n",
       "      <th>designation</th>\n",
       "      <th>createdAt</th>\n",
       "      <th>__v</th>\n",
       "    </tr>\n",
       "  </thead>\n",
       "  <tbody>\n",
       "    <tr>\n",
       "      <th>0</th>\n",
       "      <td>670627fde88879333ce6f7b7</td>\n",
       "      <td>Michael Ferguson</td>\n",
       "      <td>gutierrezbrett@example.net</td>\n",
       "      <td>3(v(5ByImJ</td>\n",
       "      <td>employee</td>\n",
       "      <td>IT</td>\n",
       "      <td>Junior IT Engineer</td>\n",
       "      <td>2024-01-13</td>\n",
       "      <td>0</td>\n",
       "    </tr>\n",
       "    <tr>\n",
       "      <th>1</th>\n",
       "      <td>670627fde88879333ce6f7b8</td>\n",
       "      <td>Nancy Giles</td>\n",
       "      <td>nunezmiranda@example.net</td>\n",
       "      <td>%5vD1!Bev@</td>\n",
       "      <td>employee</td>\n",
       "      <td>Engineering</td>\n",
       "      <td>Junior Engineering Engineer</td>\n",
       "      <td>2024-06-16</td>\n",
       "      <td>1</td>\n",
       "    </tr>\n",
       "    <tr>\n",
       "      <th>2</th>\n",
       "      <td>670627fde88879333ce6f7b9</td>\n",
       "      <td>Destiny Scott</td>\n",
       "      <td>brittany95@example.com</td>\n",
       "      <td>l5fSXpJD*&amp;</td>\n",
       "      <td>employee</td>\n",
       "      <td>IT</td>\n",
       "      <td>Senior IT Engineer</td>\n",
       "      <td>2024-02-15</td>\n",
       "      <td>1</td>\n",
       "    </tr>\n",
       "    <tr>\n",
       "      <th>3</th>\n",
       "      <td>670627fde88879333ce6f7ba</td>\n",
       "      <td>Jasmine Floyd</td>\n",
       "      <td>taylorcobb@example.com</td>\n",
       "      <td>A6&amp;+VltT$u</td>\n",
       "      <td>admin</td>\n",
       "      <td>IT</td>\n",
       "      <td>Senior IT Engineer</td>\n",
       "      <td>2024-07-18</td>\n",
       "      <td>1</td>\n",
       "    </tr>\n",
       "    <tr>\n",
       "      <th>4</th>\n",
       "      <td>670627fde88879333ce6f7bb</td>\n",
       "      <td>Tony Chaney</td>\n",
       "      <td>dakota37@example.org</td>\n",
       "      <td>s#VlPcDs^1</td>\n",
       "      <td>admin</td>\n",
       "      <td>IT</td>\n",
       "      <td>Junior IT Engineer</td>\n",
       "      <td>2024-05-05</td>\n",
       "      <td>1</td>\n",
       "    </tr>\n",
       "  </tbody>\n",
       "</table>\n",
       "</div>"
      ],
      "text/plain": [
       "                        _id              name                       email  \\\n",
       "0  670627fde88879333ce6f7b7  Michael Ferguson  gutierrezbrett@example.net   \n",
       "1  670627fde88879333ce6f7b8       Nancy Giles    nunezmiranda@example.net   \n",
       "2  670627fde88879333ce6f7b9     Destiny Scott      brittany95@example.com   \n",
       "3  670627fde88879333ce6f7ba     Jasmine Floyd      taylorcobb@example.com   \n",
       "4  670627fde88879333ce6f7bb       Tony Chaney        dakota37@example.org   \n",
       "\n",
       "     password      role   department                  designation   createdAt  \\\n",
       "0  3(v(5ByImJ  employee           IT           Junior IT Engineer  2024-01-13   \n",
       "1  %5vD1!Bev@  employee  Engineering  Junior Engineering Engineer  2024-06-16   \n",
       "2  l5fSXpJD*&  employee           IT           Senior IT Engineer  2024-02-15   \n",
       "3  A6&+VltT$u     admin           IT           Senior IT Engineer  2024-07-18   \n",
       "4  s#VlPcDs^1     admin           IT           Junior IT Engineer  2024-05-05   \n",
       "\n",
       "   __v  \n",
       "0    0  \n",
       "1    1  \n",
       "2    1  \n",
       "3    1  \n",
       "4    1  "
      ]
     },
     "execution_count": 5,
     "metadata": {},
     "output_type": "execute_result"
    }
   ],
   "source": [
    "file_path = r'C:\\Users\\SanjayG\\Desktop\\de\\schema\\raw\\raw_user.csv'\n",
    "employee = pd.read_csv(file_path)\n",
    "employee.head()"
   ]
  },
  {
   "cell_type": "code",
   "execution_count": 7,
   "metadata": {},
   "outputs": [
    {
     "name": "stdout",
     "output_type": "stream",
     "text": [
      "Columns in DataFrame: Index(['_id', 'name', 'email', 'password', 'role', 'department', 'designation',\n",
      "       'createdAt', '__v'],\n",
      "      dtype='object')\n",
      "Count of 'employee_id' before dropping duplicates: 1000\n",
      "Count of 'employee_id' after dropping duplicates: 1000\n"
     ]
    }
   ],
   "source": [
    "# Print the column names to identify the correct name\n",
    "print(\"Columns in DataFrame:\", employee.columns)\n",
    "\n",
    "# Count the number of entries in the correct column before dropping duplicates\n",
    "print(\"Count of 'employee_id' before dropping duplicates:\", employee['_id'].count())\n",
    "\n",
    "# Drop duplicates based on all columns\n",
    "employee = employee.drop_duplicates()\n",
    "\n",
    "# Count the number of entries in the correct column after dropping duplicates\n",
    "print(\"Count of 'employee_id' after dropping duplicates:\", employee['_id'].count())\n"
   ]
  },
  {
   "cell_type": "code",
   "execution_count": 8,
   "metadata": {},
   "outputs": [],
   "source": [
    "employee.drop('password', axis=1,inplace=True)"
   ]
  },
  {
   "cell_type": "code",
   "execution_count": 9,
   "metadata": {},
   "outputs": [
    {
     "data": {
      "text/plain": [
       "_id            0\n",
       "name           0\n",
       "email          0\n",
       "role           0\n",
       "department     0\n",
       "designation    0\n",
       "createdAt      0\n",
       "__v            0\n",
       "dtype: int64"
      ]
     },
     "execution_count": 9,
     "metadata": {},
     "output_type": "execute_result"
    }
   ],
   "source": [
    "employee.isnull().sum()"
   ]
  },
  {
   "cell_type": "code",
   "execution_count": 10,
   "metadata": {},
   "outputs": [
    {
     "data": {
      "text/plain": [
       "_id            object\n",
       "name           object\n",
       "email          object\n",
       "role           object\n",
       "department     object\n",
       "designation    object\n",
       "createdAt      object\n",
       "__v             int64\n",
       "dtype: object"
      ]
     },
     "execution_count": 10,
     "metadata": {},
     "output_type": "execute_result"
    }
   ],
   "source": [
    "employee.dtypes"
   ]
  },
  {
   "cell_type": "code",
   "execution_count": 11,
   "metadata": {},
   "outputs": [],
   "source": [
    "employee.to_csv(\"prep_employee.csv\", index=False)"
   ]
  }
 ],
 "metadata": {
  "kernelspec": {
   "display_name": "Python 3",
   "language": "python",
   "name": "python3"
  },
  "language_info": {
   "codemirror_mode": {
    "name": "ipython",
    "version": 3
   },
   "file_extension": ".py",
   "mimetype": "text/x-python",
   "name": "python",
   "nbconvert_exporter": "python",
   "pygments_lexer": "ipython3",
   "version": "3.11.9"
  }
 },
 "nbformat": 4,
 "nbformat_minor": 2
}
